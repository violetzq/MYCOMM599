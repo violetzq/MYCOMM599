{
  "nbformat": 4,
  "nbformat_minor": 0,
  "metadata": {
    "colab": {
      "provenance": [],
      "authorship_tag": "ABX9TyNwjPfarRa91/1LW6AInhXH",
      "include_colab_link": true
    },
    "kernelspec": {
      "name": "python3",
      "display_name": "Python 3"
    },
    "language_info": {
      "name": "python"
    }
  },
  "cells": [
    {
      "cell_type": "markdown",
      "metadata": {
        "id": "view-in-github",
        "colab_type": "text"
      },
      "source": [
        "<a href=\"https://colab.research.google.com/github/violetzq/MYCOMM599/blob/main/Untitled5.ipynb\" target=\"_parent\"><img src=\"https://colab.research.google.com/assets/colab-badge.svg\" alt=\"Open In Colab\"/></a>"
      ]
    },
    {
      "cell_type": "code",
      "execution_count": 1,
      "metadata": {
        "colab": {
          "base_uri": "https://localhost:8080/",
          "height": 393
        },
        "id": "I1KMf9Gq7Guh",
        "outputId": "8fb19b2a-439c-49ae-c964-c4fe13bb3a5e"
      },
      "outputs": [
        {
          "output_type": "error",
          "ename": "ModuleNotFoundError",
          "evalue": "No module named 'streamlit'",
          "traceback": [
            "\u001b[0;31m---------------------------------------------------------------------------\u001b[0m",
            "\u001b[0;31mModuleNotFoundError\u001b[0m                       Traceback (most recent call last)",
            "\u001b[0;32m<ipython-input-1-a21bf7b68e5f>\u001b[0m in \u001b[0;36m<cell line: 1>\u001b[0;34m()\u001b[0m\n\u001b[0;32m----> 1\u001b[0;31m \u001b[0;32mimport\u001b[0m \u001b[0mstreamlit\u001b[0m \u001b[0;32mas\u001b[0m \u001b[0mst\u001b[0m\u001b[0;34m\u001b[0m\u001b[0;34m\u001b[0m\u001b[0m\n\u001b[0m\u001b[1;32m      2\u001b[0m \u001b[0;32mimport\u001b[0m \u001b[0mpandas\u001b[0m \u001b[0;32mas\u001b[0m \u001b[0mpd\u001b[0m\u001b[0;34m\u001b[0m\u001b[0;34m\u001b[0m\u001b[0m\n\u001b[1;32m      3\u001b[0m \u001b[0;32mimport\u001b[0m \u001b[0mseaborn\u001b[0m \u001b[0;32mas\u001b[0m \u001b[0msns\u001b[0m\u001b[0;34m\u001b[0m\u001b[0;34m\u001b[0m\u001b[0m\n\u001b[1;32m      4\u001b[0m \u001b[0;32mimport\u001b[0m \u001b[0mmatplotlib\u001b[0m\u001b[0;34m.\u001b[0m\u001b[0mpyplot\u001b[0m \u001b[0;32mas\u001b[0m \u001b[0mplt\u001b[0m\u001b[0;34m\u001b[0m\u001b[0;34m\u001b[0m\u001b[0m\n\u001b[1;32m      5\u001b[0m \u001b[0;34m\u001b[0m\u001b[0m\n",
            "\u001b[0;31mModuleNotFoundError\u001b[0m: No module named 'streamlit'",
            "",
            "\u001b[0;31m---------------------------------------------------------------------------\u001b[0;32m\nNOTE: If your import is failing due to a missing package, you can\nmanually install dependencies using either !pip or !apt.\n\nTo view examples of installing some common dependencies, click the\n\"Open Examples\" button below.\n\u001b[0;31m---------------------------------------------------------------------------\u001b[0m\n"
          ],
          "errorDetails": {
            "actions": [
              {
                "action": "open_url",
                "actionText": "Open Examples",
                "url": "/notebooks/snippets/importing_libraries.ipynb"
              }
            ]
          }
        }
      ],
      "source": [
        "import streamlit as st\n",
        "import pandas as pd\n",
        "import seaborn as sns\n",
        "import matplotlib.pyplot as plt\n",
        "\n",
        "# Set Streamlit page configuration\n",
        "st.set_page_config(page_title=\"Content Performance Analysis\", layout=\"wide\")\n",
        "\n",
        "# Load your dataset from GitHub\n",
        "@st.cache\n",
        "def load_data():\n",
        "    data_url = 'https://raw.githubusercontent.com/violetzq/MYCOMM599/main/DangerTV_Content.csv'\n",
        "    data = pd.read_csv(data_url, encoding='ISO-8859-1')\n",
        "    return data\n",
        "\n",
        "data = load_data()\n",
        "\n",
        "# Add categories\n",
        "categories = {\n",
        "    \"Border Security\": [\"border\", \"customs\", \"security\"],\n",
        "    \"Wildlife\": [\"wildlife\", \"animal\", \"nature\", \"wild\", \"hunting\", \"bear\"],\n",
        "    \"Adventure\": [\"adventure\", \"journey\", \"explore\", \"trap\", \"wilderness\", \"weather\", \"severe\", \"survive\", \"climbing\", \"storm\", \"coast guard\"],\n",
        "    \"Crime\": [\"crime\", \"criminal\", \"police\", \"investigation\", \"drug\", \"jail\", \"sin\"],\n",
        "    \"Human Stories & Disaster\": [\"life\", \"story\", \"family\", \"personal\", \"survive\", \"tsunami\", \"earthquake\", \"tornado\", \"dead\", \"risk\", \"tribe\"],\n",
        "    \"Vehicles\": [\"car\", \"truck\", \"vehicle\", \"auto\", \"transport\"],\n",
        "    \"Maritime\": [\"ship\", \"boat\", \"ocean\", \"sea\", \"fish\", \"fishing\", \"sail\", \"sailor\"],\n",
        "    \"Bull Fight\": [\"bulls\", \"matadors\"],\n",
        "    \"Battle & Special Forces\": [\"battle\", \"war\", \"afghanistan\", \"training\", \"special forces\", \"rescue\", \"fight\", \"swat\", \"k-9\"]\n",
        "}\n",
        "\n",
        "def assign_category(title):\n",
        "    for category, keywords in categories.items():\n",
        "        if any(keyword.lower() in str(title).lower() for keyword in keywords):\n",
        "            return category\n",
        "    return \"Other\"\n",
        "\n",
        "# Assign categories\n",
        "data['Category'] = data['Video title'].apply(assign_category)\n",
        "\n",
        "# Sidebar filters\n",
        "st.sidebar.header(\"Filter Options\")\n",
        "selected_category = st.sidebar.selectbox(\"Select a Category\", options=[\"All\"] + list(categories.keys()))\n",
        "\n",
        "# Filter data\n",
        "filtered_data = data if selected_category == \"All\" else data[data['Category'] == selected_category]\n",
        "\n",
        "# Overview\n",
        "st.title(\"Content Performance Analysis\")\n",
        "st.header(\"Overview of All Categories\")\n",
        "\n",
        "category_summary = data.groupby('Category').agg({\n",
        "    'Views': 'sum',\n",
        "    'Watch time (hours)': 'sum',\n",
        "    'Impressions click-through rate (%)': 'mean'\n",
        "}).reset_index()\n",
        "\n",
        "# Total Views by Category\n",
        "st.subheader(\"Total Views by Category\")\n",
        "fig, ax = plt.subplots(figsize=(10, 6))\n",
        "sns.barplot(x='Views', y='Category', data=category_summary, palette='viridis', ax=ax)\n",
        "st.pyplot(fig)\n",
        "\n",
        "# Insights\n",
        "st.header(\"Insights\")\n",
        "top_category_views = category_summary.loc[category_summary['Views'].idxmax()]\n",
        "top_category_ctr = category_summary.loc[category_summary['Impressions click-through rate (%)'].idxmax()]\n",
        "\n",
        "st.markdown(f\"- The category with the **highest total views** is **{top_category_views['Category']}** with **{top_category_views['Views']:.0f} views**.\")\n",
        "st.markdown(f\"- The category with the **highest average CTR** is **{top_category_ctr['Category']}** with **{top_category_ctr['Impressions click-through rate (%)']:.2f}% CTR**.\")\n",
        "\n",
        "# Top Videos\n",
        "st.header(f\"Top Videos in {selected_category if selected_category != 'All' else 'All Categories'}\")\n",
        "if not filtered_data.empty:\n",
        "    top_videos = filtered_data.sort_values(by='Views', ascending=False).head(10)\n",
        "    st.write(\"Top 10 Videos:\")\n",
        "    st.dataframe(top_videos[['Video title', 'Category', 'Views', 'Watch time (hours)', 'Impressions click-through rate (%)']])\n",
        "else:\n",
        "    st.write(\"No videos found for the selected category.\")\n",
        "\n",
        "# Search Functionality\n",
        "st.header(\"Search for a Specific Video\")\n",
        "search_query = st.text_input(\"Enter a video title or keyword:\")\n",
        "if search_query:\n",
        "    search_results = data[data['Video title'].str.contains(search_query, case=False, na=False)]\n",
        "    if not search_results.empty:\n",
        "        st.write(\"Search Results:\")\n",
        "        st.dataframe(search_results[['Video title', 'Category', 'Views', 'Watch time (hours)', 'Impressions click-through rate (%)']])\n",
        "    else:\n",
        "        st.write(\"No results found for your search query.\")\n",
        "\n",
        "# Content Explorer Section\n",
        "st.header(\"Content Explorer\")\n",
        "\n",
        "# Searchable Table\n",
        "search_title = st.text_input(\"Search by Video Title\")\n",
        "search_category = st.multiselect(\"Filter by Category\", options=[\"All\"] + list(categories.keys()))\n",
        "search_date = st.date_input(\"Filter by Publish Date\", value=None)\n",
        "\n",
        "# Filter data\n",
        "explorer_data = data.copy()\n",
        "if search_title:\n",
        "    explorer_data = explorer_data[explorer_data['Video title'].str.contains(search_title, case=False, na=False)]\n",
        "if search_category and \"All\" not in search_category:\n",
        "    explorer_data = explorer_data[explorer_data['Category'].isin(search_category)]\n",
        "if search_date:\n",
        "    explorer_data['Video publish time'] = pd.to_datetime(explorer_data['Video publish time'], errors='coerce')\n",
        "    explorer_data = explorer_data[explorer_data['Video publish time'] == pd.Timestamp(search_date)]\n",
        "\n",
        "# Display filtered data\n",
        "st.dataframe(explorer_data[['Video title', 'Category', 'Views', 'Watch time (hours)', 'Impressions click-through rate (%)', 'Video publish time']])\n",
        "\n",
        "# Detailed Statistics Button\n",
        "st.header(\"Video Details\")\n",
        "if st.button(\"Show Details for Selected Video\"):\n",
        "    st.write(\"Select a row in the table above for detailed statistics.\")\n",
        "    st.write(\"Details feature can be implemented using further event hooks if needed.\")"
      ]
    }
  ]
}